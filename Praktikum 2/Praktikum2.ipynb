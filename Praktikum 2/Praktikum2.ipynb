{
 "cells": [
  {
   "cell_type": "code",
   "execution_count": 4,
   "id": "1317260e-1ed7-449a-bfde-88126787307a",
   "metadata": {},
   "outputs": [
    {
     "name": "stdout",
     "output_type": "stream",
     "text": [
      "[9, 8, 6, 5, 3, 2, 1, -3, -6]\n"
     ]
    }
   ],
   "source": [
    "def insertionSort(A):\n",
    "\tfor step in range(1, len(A)):\n",
    "\t\tkey = A[step] # simpan nilai key yang akan dipindahkan ke kiri\n",
    "\t\tj = step - 1 # counter untuk elemen di kiri\n",
    "\t\t# perulangan selama indeks tidak kurang dari 0\n",
    "\t\twhile j >= 0 and key > A[j]: # kondisi apabila elemen yang akan dipindah kurang dari suatu elemen j yang ada di kiri\n",
    "\t\t\tA[j + 1] = A[j] # apabila kondisi benar, geser nilai A[j] ke A[j+1]\n",
    "\t\t\tj = j - 1 # mundurkan counter j untuk membandingkan dengan elemen lain\n",
    "\t\tA[j + 1] = key # jika perulangan berhenti, selipkan nilai key di posisinya yang tepat\n",
    "\n",
    "A = [9, -3, 5, 2, 6, 8, -6, 1, 3]\n",
    "insertionSort(A)\n",
    "print(A)"
   ]
  },
  {
   "cell_type": "code",
   "execution_count": 12,
   "id": "9c0c41fe-769a-4b7f-88f1-cef4cb974c78",
   "metadata": {},
   "outputs": [
    {
     "name": "stdout",
     "output_type": "stream",
     "text": [
      "split  [-3, 9]\n",
      "split  [2, 5]\n",
      "split  [-3, 2, 5, 9]\n",
      "split  [6, 8]\n",
      "split  [-6, 1]\n",
      "split  [-6, 1, 6, 8]\n",
      "split  [-6, -3, 1, 2, 5, 6, 8, 9]\n",
      "[-6, -3, 1, 2, 5, 6, 8, 9]\n"
     ]
    }
   ],
   "source": [
    "def mergeSort(A):\n",
    "    \n",
    "    if len(A) > 1:\n",
    "        mid = int(len(A)/2) # cari pembagi array (median index)\n",
    "        L = A[:mid] # inisiasikan subarray dari 0 hingga mid - 1\n",
    "        R = A[mid:] # inisiasikan subarray dari mid hingga len(A) - 1\n",
    "        mergeSort(L) # urutkan subarray di kiri dengan recursive call\n",
    "        mergeSort(R) # urutkan subarray di kiri dengan recursive call\n",
    "        \n",
    "        i = j = k = 0\n",
    "        # proses sorting setiap subarray\n",
    "        while i < len(L) and j < len(R):\n",
    "            if L[i] <= R[j]:\n",
    "                A[k] = L[i]\n",
    "                i = i + 1\n",
    "            else:\n",
    "                A[k] = R[j]\n",
    "                j = j + 1\n",
    "            k = k + 1\n",
    "        #print(\"split \",A)\n",
    "        # proses merging dari subarray kiri dan kanan ke array A\n",
    "        while i < len(L):\n",
    "            A[k] = L[i]\n",
    "            i = i + 1\n",
    "            k = k + 1\n",
    "        while j < len(R):\n",
    "            A[k] = R[j]\n",
    "            j = j + 1\n",
    "            k = k + 1\n",
    "        print(\"split \",A)    \n",
    "        \n",
    "A = [9, -3, 5, 2, 6, 8, -6, 1]\n",
    "mergeSort(A)\n",
    "print(A)"
   ]
  },
  {
   "cell_type": "code",
   "execution_count": 14,
   "id": "4f5545d1-c830-4339-8dfb-a12aab9a4474",
   "metadata": {},
   "outputs": [
    {
     "name": "stdin",
     "output_type": "stream",
     "text": [
      " safsfasfas\n"
     ]
    },
    {
     "name": "stdout",
     "output_type": "stream",
     "text": [
      "[['s', 4], ['a', 3], ['f', 3]]\n",
      "['s', 4]\n",
      "['a', 3]\n",
      "['f', 3]\n"
     ]
    }
   ],
   "source": [
    "def bubbleSort(A):\n",
    "    for i in range(len(A)):\n",
    "        swapped = False\n",
    "        for j in range(0, len(A) - i - 1):\n",
    "            if A[j][1] < A[j + 1][1]:\n",
    "                A[j], A[j + 1] = A[j + 1], A[j]\n",
    "                swapped = True\n",
    "        if not swapped:\n",
    "            break\n",
    "\n",
    "\n",
    "kalimat = input()\n",
    "huruf = []\n",
    "\n",
    "for i in kalimat:\n",
    "    if([i, kalimat.count(i)] not in huruf):\n",
    "        huruf.append([i, kalimat.count(i)])\n",
    "\n",
    "print(huruf)        \n",
    "bubbleSort(huruf)\n",
    "for i in range(0, 3):\n",
    "    print(huruf[i])"
   ]
  }
 ],
 "metadata": {
  "kernelspec": {
   "display_name": "Python 3 (ipykernel)",
   "language": "python",
   "name": "python3"
  },
  "language_info": {
   "codemirror_mode": {
    "name": "ipython",
    "version": 3
   },
   "file_extension": ".py",
   "mimetype": "text/x-python",
   "name": "python",
   "nbconvert_exporter": "python",
   "pygments_lexer": "ipython3",
   "version": "3.11.2"
  }
 },
 "nbformat": 4,
 "nbformat_minor": 5
}
