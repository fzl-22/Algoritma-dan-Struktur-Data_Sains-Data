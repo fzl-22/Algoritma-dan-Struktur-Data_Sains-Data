{
 "cells": [
  {
   "cell_type": "code",
   "execution_count": 1,
   "id": "4eb285c2-8c52-4d82-89b5-0327043b0142",
   "metadata": {},
   "outputs": [
    {
     "name": "stdout",
     "output_type": "stream",
     "text": [
      "[1, 'satu', 1.5, 'satu koma lima', 2]\n"
     ]
    }
   ],
   "source": [
    "IniList = [1,\"satu\",1.5,\"satu koma lima\",2]\n",
    "print(IniList)"
   ]
  },
  {
   "cell_type": "code",
   "execution_count": 3,
   "id": "1bfab80d-d3c4-4546-8716-bf73318b08f3",
   "metadata": {},
   "outputs": [
    {
     "data": {
      "text/plain": [
       "list"
      ]
     },
     "execution_count": 3,
     "metadata": {},
     "output_type": "execute_result"
    }
   ],
   "source": [
    "type(IniList)"
   ]
  },
  {
   "cell_type": "code",
   "execution_count": 5,
   "id": "eafc69b6-501a-45dd-920e-d683747d100b",
   "metadata": {},
   "outputs": [
    {
     "name": "stdout",
     "output_type": "stream",
     "text": [
      "[1, 2, 3, 4, 5, 'a', 'b', 'c', 'd']\n",
      "[0, 1, 2, 3, 4, 5, 6, 7, 8, 9]\n",
      "['a', 'p', 'a', 'k', 'a', 'b', 'a', 'r', ' ', 'k', 'a', 'l', 'i', 'a', 'n', ' ', 's', 'e', 'm', 'u', 'a']\n",
      "[0, 2, 4, 6, 8]\n"
     ]
    }
   ],
   "source": [
    "# Menggunakan Constructor\n",
    "IniList2 = list((1, 2, 3, 4, 5, 'a', 'b', 'c', 'd'))\n",
    "print(IniList2)\n",
    "# menggunakan looping\n",
    "IniList = [i for i in range(0, 10)]\n",
    "print(IniList)\n",
    "IniList = [i for i in \"apakabar kalian semua\"]\n",
    "print(IniList)\n",
    "# ditambahkan if \n",
    "IniList = [i for i in range(0, 10) if i % 2 == 0]\n",
    "print(IniList)"
   ]
  },
  {
   "cell_type": "code",
   "execution_count": 6,
   "id": "a9d856e1-8e1b-437c-a675-f3803322f8d1",
   "metadata": {},
   "outputs": [
    {
     "name": "stdout",
     "output_type": "stream",
     "text": [
      "[0, 1, 2, 3, 4, 5, 6, 7, 8, 10]\n",
      "[1, 2, 3, 4]\n",
      "[2, 5, 8]\n"
     ]
    }
   ],
   "source": [
    "arrInt = [0, 1, 2, 3, 4, 5, 6, 7, 8, 10]\n",
    "\n",
    "print(arrInt[::]) # mengakses setiap elemen dalam list\n",
    "print(arrInt[1:5]) # mengakses setiap elemen dari index 1 hingga index 5\n",
    "print(arrInt[2:9:3]) # mengakses mulai dari index 2 hingga index 9 dengan lompatan 3 index"
   ]
  },
  {
   "cell_type": "code",
   "execution_count": 9,
   "id": "8aba695f-4408-4b3d-b6ff-094c6e6db610",
   "metadata": {},
   "outputs": [
    {
     "name": "stdout",
     "output_type": "stream",
     "text": [
      "a, b, c, d, 1, 2, 3, a\n",
      "b\n",
      "c\n",
      "d\n",
      "1\n",
      "2\n",
      "3\n"
     ]
    }
   ],
   "source": [
    "IniList = ['a', 'b', 'c', 'd', '1', '2', '3']\n",
    "\n",
    "for i in IniList: # berdasarkan elemen list\n",
    "    print(i, end=\", \")\n",
    "\n",
    "for i in range(len(IniList)): # berdasarkan index\n",
    "    print(IniList[i])"
   ]
  },
  {
   "cell_type": "code",
   "execution_count": 11,
   "id": "84db7c11-491e-47fc-8a77-7e111c1d2497",
   "metadata": {},
   "outputs": [
    {
     "name": "stdout",
     "output_type": "stream",
     "text": [
      "1\n",
      "a\n",
      "3\n",
      "[4, 5]\n"
     ]
    }
   ],
   "source": [
    "IniList = [[1, 2], ['a', 'b'], [3, [4, 5]]]\n",
    "print(IniList[0][0])\n",
    "print(IniList[1][0])\n",
    "print(IniList[2][0])\n",
    "print(IniList[2][1])"
   ]
  },
  {
   "cell_type": "code",
   "execution_count": 12,
   "id": "81eaf42c-c2bf-46bc-b237-71618d7111c5",
   "metadata": {},
   "outputs": [
    {
     "name": "stdout",
     "output_type": "stream",
     "text": [
      "[1, 2, 3, 4]\n"
     ]
    }
   ],
   "source": [
    "iniLIST = [1, 2, 3, 4]\n",
    "print(iniLIST)"
   ]
  },
  {
   "cell_type": "code",
   "execution_count": 14,
   "id": "1b7ba16e-7c5f-4d33-87a6-9caac1746df9",
   "metadata": {},
   "outputs": [
    {
     "name": "stdout",
     "output_type": "stream",
     "text": [
      "[1, 2, 3]\n"
     ]
    }
   ],
   "source": [
    "iniLIST.pop()\n",
    "print(iniLIST)"
   ]
  },
  {
   "cell_type": "code",
   "execution_count": 15,
   "id": "07c7dc93-718a-4d56-963b-dfa7a694fa3c",
   "metadata": {},
   "outputs": [],
   "source": [
    "import numpy as np"
   ]
  },
  {
   "cell_type": "code",
   "execution_count": 17,
   "id": "f0b77fb0-1ca4-4e9c-b309-b78e495db2aa",
   "metadata": {},
   "outputs": [
    {
     "name": "stdout",
     "output_type": "stream",
     "text": [
      "[10  3  7  8 90]\n",
      "[ 1  4  3 20 11]\n",
      "['Cristiano' 'Mbappe' 'Modric' 'Griezmann']\n",
      "[[1 2 3]\n",
      " [4 5 6]\n",
      " [7 8 9]]\n",
      "[[[ 1.  2.  3.]\n",
      "  [ 4.  5.  6.]\n",
      "  [ 7.  8.  9.]]\n",
      "\n",
      " [[10. 11. 12.]\n",
      "  [13. 14. 15.]\n",
      "  [16. 17. 18.]]]\n"
     ]
    }
   ],
   "source": [
    "arrFloat = np.array([10, 3, 7, 8, 90]) # secara default menjadi int\n",
    "arrInt = np.array([1, 4, 3, 20, 11], int) # array dengan tipe data integer\n",
    "arrStr = np.array(['Cristiano', 'Mbappe', 'Modric', 'Griezmann'])\n",
    "arr2D = np.array([[1, 2, 3],\n",
    "\t\t  [4, 5, 6],\n",
    "\t\t  [7, 8, 9]])\n",
    "arr3D = np.array([[[1, 2, 3],\n",
    "\t\t   [4, 5, 6],\n",
    "\t\t   [7, 8, 9]],\n",
    "\t\t  [[10, 11, 12],\n",
    "\t           [13, 14, 15],\n",
    "\t           [16, 17, 18]]], float)\n",
    "\n",
    "print(arrFloat)\n",
    "print(arrInt)\n",
    "print(arrStr)\n",
    "print(arr2D)\n",
    "print(arr3D)"
   ]
  },
  {
   "cell_type": "code",
   "execution_count": 19,
   "id": "e1e2f243-82d2-4ab8-9b32-9fedf8dcdb03",
   "metadata": {},
   "outputs": [
    {
     "name": "stdout",
     "output_type": "stream",
     "text": [
      "{1, 2, 3, 4, 5, 7}\n"
     ]
    }
   ],
   "source": [
    "my_set = {1, 2, 3, 4, 5, 4, 5, 7}\n",
    "print(my_set)"
   ]
  },
  {
   "cell_type": "code",
   "execution_count": 21,
   "id": "2907aafd-03d3-49b2-8128-f69a6f9796d0",
   "metadata": {},
   "outputs": [
    {
     "name": "stdout",
     "output_type": "stream",
     "text": [
      "{1, 2, 3, 4, 5, 6}\n",
      "{1, 2, 3, 4, 5, 6, 7, 8}\n",
      "{1, 2, 4, 5, 6, 7, 8}\n",
      "{1, 2, 3, 4, 5}\n"
     ]
    }
   ],
   "source": [
    "my_set = {1, 2, 3, 4, 5}\n",
    "my_set.add(6)\n",
    "print(my_set)\n",
    "\n",
    "my_set.update([6, 7, 8])\n",
    "print(my_set)\n",
    "\n",
    "my_set.remove(3)\n",
    "print(my_set)\n",
    "\n",
    "my_set1 = {1, 2, 3}\n",
    "my_set2 = {3, 4, 5, 2}\n",
    "my_set3 = my_set1.union(my_set2)\n",
    "print(my_set3)\n",
    "T"
   ]
  },
  {
   "cell_type": "code",
   "execution_count": 22,
   "id": "3d22e440-d810-4018-beb5-743bc52f7ae1",
   "metadata": {},
   "outputs": [
    {
     "name": "stdout",
     "output_type": "stream",
     "text": [
      "[1, 2, 3, 5, 8]\n"
     ]
    }
   ],
   "source": [
    "my_tuple = (5, 2, 8, 1, 3)\n",
    "sorted_tuple = sorted(my_tuple)\n",
    "print(sorted_tuple)"
   ]
  },
  {
   "cell_type": "code",
   "execution_count": 23,
   "id": "f23cd897-6330-4e86-ac88-162c497f294c",
   "metadata": {},
   "outputs": [
    {
     "name": "stdout",
     "output_type": "stream",
     "text": [
      "{'name': 'FAISAL', 'age': 30, 'city': 'New York'}\n"
     ]
    }
   ],
   "source": [
    "# Mendeklarasikan sebuah dictionary\n",
    "person = {\"name\": \"John\", \"age\": 30, \"city\": \"New York\",\"name\" : \"FAISAL\"}\n",
    "# Menghapus semua pasangan key-value pada dictionary\n",
    "print(person) \n"
   ]
  },
  {
   "cell_type": "code",
   "execution_count": 24,
   "id": "ea4f51d2-46a5-4a50-b3d2-8d2b39168d45",
   "metadata": {},
   "outputs": [
    {
     "name": "stdout",
     "output_type": "stream",
     "text": [
      "dict_items([('name', 'John'), ('age', 30), ('city', 'New York')])\n"
     ]
    }
   ],
   "source": [
    "person = {\"name\": \"John\", \"age\": 30, \"city\": \"New York\"}\n",
    "# Mengembalikan daftar pasangan key-value dalam bentuk tuple\n",
    "print(person.items())  "
   ]
  },
  {
   "cell_type": "code",
   "execution_count": 26,
   "id": "3cf60683-0ee8-488c-8d96-3e09c2000335",
   "metadata": {},
   "outputs": [
    {
     "name": "stdin",
     "output_type": "stream",
     "text": [
      " 0895365037183\n"
     ]
    },
    {
     "name": "stdout",
     "output_type": "stream",
     "text": [
      "{'0': 2, '8': 2, '9': 1, '5': 2, '3': 3, '6': 1, '7': 1, '1': 1}\n",
      "Mean: 4.46\n",
      "Median: 5\n",
      "Modus: 3\n"
     ]
    }
   ],
   "source": [
    "def mean(n):\n",
    "    sum = 0\n",
    "    for i in range(len(n)):\n",
    "        sum = sum + int(n[i])\n",
    "    return round(sum/len(n), 2)\n",
    "\n",
    "def median(n):\n",
    "    myList = [int(i) for i in n]\n",
    "    myList.sort()\n",
    "    return myList[int(len(n)/2)]\n",
    "\n",
    "def modus(n):\n",
    "    myDict = {}\n",
    "    for i in n:\n",
    "        if i not in myDict.keys():\n",
    "            myDict[i] = n.count(i)\n",
    "    print(myDict)\n",
    "    result = []\n",
    "    for key, value in myDict.items():\n",
    "        if value == max(myDict.values()):\n",
    "            result.append(key)\n",
    "    return result\n",
    "\n",
    "N = input()\n",
    "meanResult = mean(N)\n",
    "medianResult = median(N)\n",
    "modusResult = modus(N)\n",
    "print(f\"Mean: {meanResult}\")\n",
    "print(f\"Median: {medianResult}\")\n",
    "print(f\"Modus: {' '.join(modusResult)}\")\n"
   ]
  }
 ],
 "metadata": {
  "kernelspec": {
   "display_name": "Python 3 (ipykernel)",
   "language": "python",
   "name": "python3"
  },
  "language_info": {
   "codemirror_mode": {
    "name": "ipython",
    "version": 3
   },
   "file_extension": ".py",
   "mimetype": "text/x-python",
   "name": "python",
   "nbconvert_exporter": "python",
   "pygments_lexer": "ipython3",
   "version": "3.11.2"
  }
 },
 "nbformat": 4,
 "nbformat_minor": 5
}
